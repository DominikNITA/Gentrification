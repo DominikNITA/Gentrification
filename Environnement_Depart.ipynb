{
 "cells": [
  {
   "cell_type": "code",
   "execution_count": 100,
   "metadata": {
    "collapsed": true
   },
   "outputs": [],
   "source": [
    "import random\n",
    "import copy"
   ]
  },
  {
   "cell_type": "code",
   "execution_count": 101,
   "metadata": {
    "collapsed": true
   },
   "outputs": [],
   "source": [
    "environnement_transport=[]\n",
    "environnement_education=[]\n",
    "environnement_culture=[]\n",
    "environnement_commerce=[]\n",
    "matrice_nulle=[]"
   ]
  },
  {
   "cell_type": "code",
   "execution_count": 102,
   "metadata": {
    "collapsed": true
   },
   "outputs": [],
   "source": [
    "from enum import Enum\n",
    "\n",
    "class Transport(Enum):\n",
    "    NULL = 0\n",
    "    VELO = 1\n",
    "    BUS = 2\n",
    "    TRAM = 3\n",
    "    METRO = 4\n",
    "    AEROPORT = 5\n",
    "\n",
    "class Education(Enum):\n",
    "    NULL = 0\n",
    "    EC_MAT = 1\n",
    "    EC_PRIM = 2\n",
    "    COLLEGE = 3\n",
    "    LYCEE = 4\n",
    "    UNIV = 5\n",
    "\n",
    "class Culture(Enum):\n",
    "    NULL = 0\n",
    "    MONUMENT = 1\n",
    "    CENTRE = 2\n",
    "    BIBLIOTHEQUE = 3\n",
    "    MUSEE = 4 \n",
    "    OPERA = 5\n",
    "    \n",
    "class Commerce(Enum):\n",
    "    NULL = 0\n",
    "    BOUTIQUE = 1\n",
    "    SUP_MARCHE = 2\n",
    "    CENTRE_COMM = 3\n",
    "    RESTAURANT = 4\n",
    "    SHOP_LUXE = 5"
   ]
  },
  {
   "cell_type": "code",
   "execution_count": 103,
   "metadata": {
    "collapsed": true
   },
   "outputs": [],
   "source": [
    "# Taille de l'environnement\n",
    "N=6 #Lignes\n",
    "M=6 #Colonnes\n",
    "\n",
    "# Parties de l'environnement\n",
    "nb_transport = 20\n",
    "nb_education = 8\n",
    "nb_culture = 10\n",
    "nb_commerce = 15"
   ]
  },
  {
   "cell_type": "code",
   "execution_count": 104,
   "metadata": {},
   "outputs": [
    {
     "name": "stdout",
     "output_type": "stream",
     "text": [
      "Education.COLLEGE      3\n",
      "2\n"
     ]
    }
   ],
   "source": [
    "#TEST s\n",
    "a = random.choice(list(Education)).value\n",
    "print(Education(a),\"    \",a)\n",
    "print(Culture.CENTRE.value)"
   ]
  },
  {
   "cell_type": "code",
   "execution_count": 105,
   "metadata": {
    "collapsed": true
   },
   "outputs": [],
   "source": [
    "def generate_matrice_nulle(N,M):\n",
    "    matrice =[]\n",
    "    for i in range(N):\n",
    "        ligne=[]\n",
    "        for j in range(M):\n",
    "            ligne.append(0)\n",
    "        matrice.append(ligne)\n",
    "    return matrice"
   ]
  },
  {
   "cell_type": "code",
   "execution_count": 106,
   "metadata": {},
   "outputs": [],
   "source": [
    "def generate_transport_matrice(N,M,nb_transport,matrice_nulle):\n",
    "    matrice_transport = copy.deepcopy(matrice_nulle)\n",
    "    i=0\n",
    "    while (i < nb_transport) and (i < N*M):\n",
    "        x = random.randint(0,N-1)\n",
    "        y = random.randint(0,M-1)\n",
    "        #print(\"Step \", i, \"/  x=\",x,\" y=\",y)\n",
    "        if matrice_transport[x][y] == 0:\n",
    "            #print(\"Step(inside) \", i, \"/  x=\",x,\" y=\",y)\n",
    "            matrice_transport[x][y] = random.randint(1,len(Transport)-1)\n",
    "            i=i+1\n",
    "    \n",
    "    return matrice_transport"
   ]
  },
  {
   "cell_type": "code",
   "execution_count": 107,
   "metadata": {
    "collapsed": true
   },
   "outputs": [],
   "source": [
    "def generate_education_matrice(N,M,nb_education,matrice_nulle):\n",
    "    matrice_education = copy.deepcopy(matrice_nulle)\n",
    "    i=0\n",
    "    while (i < nb_education) and (i < N*M):\n",
    "        x = random.randint(0,N-1)\n",
    "        y = random.randint(0,M-1)\n",
    "        #print(\"Step \", i, \"/  x=\",x,\" y=\",y)\n",
    "        if matrice_education[x][y] == 0:\n",
    "            #print(\"Step(inside) \", i, \"/  x=\",x,\" y=\",y)\n",
    "            matrice_education[x][y] = random.randint(1,len(Education)-1)\n",
    "            i=i+1\n",
    "    \n",
    "    return matrice_education"
   ]
  },
  {
   "cell_type": "code",
   "execution_count": 108,
   "metadata": {
    "collapsed": true
   },
   "outputs": [],
   "source": [
    "def generate_culture_matrice(N,M,nb_culture,matrice_nulle):\n",
    "    matrice_culture = copy.deepcopy(matrice_nulle)\n",
    "    i=0\n",
    "    while (i < nb_culture) and (i < N*M):\n",
    "        x = random.randint(0,N-1)\n",
    "        y = random.randint(0,M-1)\n",
    "        #print(\"Step \", i, \"/  x=\",x,\" y=\",y)\n",
    "        if matrice_culture[x][y] == 0:\n",
    "            #print(\"Step(inside) \", i, \"/  x=\",x,\" y=\",y)\n",
    "            matrice_culture[x][y] = random.randint(1,len(Culture)-1)\n",
    "            i=i+1\n",
    "    \n",
    "    return matrice_culture"
   ]
  },
  {
   "cell_type": "code",
   "execution_count": 109,
   "metadata": {
    "collapsed": true
   },
   "outputs": [],
   "source": [
    "def generate_commerce_matrice(N,M,nb_commerce,matrice_nulle):\n",
    "    matrice_commerce = copy.deepcopy(matrice_nulle)\n",
    "    #print(\"Matrice nulle: \", matrice_nulle)\n",
    "    #print(\"Matrice commerce: \", matrice_commerce)\n",
    "    i=0\n",
    "    while (i < nb_commerce) and (i < N*M):\n",
    "        x = random.randint(0,N-1)\n",
    "        y = random.randint(0,M-1)\n",
    "        #print(\"Step \", i, \"/  x=\",x,\" y=\",y)\n",
    "        #print(\"Matrice [x][y]: \", matrice_commerce[x][y] )\n",
    "        if matrice_commerce[x][y] == 0:\n",
    "            #print(\"Step(inside) \", i, \"/  x=\",x,\" y=\",y)\n",
    "            matrice_commerce[x][y] = random.randint(1,len(Commerce)-1)\n",
    "            i=i+1\n",
    "    \n",
    "    return matrice_commerce"
   ]
  },
  {
   "cell_type": "code",
   "execution_count": 110,
   "metadata": {},
   "outputs": [],
   "source": [
    "def generate_default_environnement(N,M,nb_transport,nb_education,nb_culture,nb_commerce):\n",
    "    matrice_nulle = generate_matrice_nulle(N,M)\n",
    "    global environnement_transport\n",
    "    global environnement_commerce\n",
    "    global environnement_education\n",
    "    global environnement_culture\n",
    "    environnement_transport = generate_transport_matrice(N,M,nb_transport,matrice_nulle)\n",
    "    environnement_education = generate_education_matrice(N,M,nb_education,matrice_nulle)\n",
    "    environnement_culture = generate_culture_matrice(N,M,nb_culture,matrice_nulle)\n",
    "    environnement_commerce = generate_commerce_matrice(N,M,nb_commerce,matrice_nulle)\n",
    "    "
   ]
  },
  {
   "cell_type": "code",
   "execution_count": 111,
   "metadata": {},
   "outputs": [
    {
     "name": "stdout",
     "output_type": "stream",
     "text": [
      "Transport:  [[4, 0, 0, 2, 4, 0], [0, 0, 5, 3, 1, 0], [3, 5, 0, 0, 2, 1], [4, 0, 4, 0, 0, 1], [0, 4, 0, 0, 3, 0], [1, 4, 1, 0, 4, 5]]\n",
      "Education:  [[1, 1, 0, 0, 0, 0], [1, 0, 0, 5, 0, 0], [3, 0, 0, 0, 2, 0], [0, 0, 0, 0, 0, 5], [0, 0, 0, 4, 0, 0], [0, 0, 0, 0, 0, 0]]\n",
      "Culture:  [[0, 0, 1, 0, 0, 0], [0, 0, 0, 0, 0, 0], [0, 0, 0, 0, 0, 4], [0, 0, 0, 1, 0, 0], [3, 2, 0, 0, 2, 5], [0, 0, 2, 0, 1, 1]]\n",
      "Commerce:  [[0, 5, 0, 4, 1, 1], [0, 3, 0, 0, 0, 1], [0, 0, 0, 0, 4, 3], [0, 0, 0, 4, 0, 5], [0, 0, 3, 5, 5, 0], [0, 0, 0, 4, 0, 2]]\n"
     ]
    }
   ],
   "source": [
    "generate_default_environnement(N,M,nb_transport,nb_education,nb_culture,nb_commerce)\n",
    "print(\"Transport: \",environnement_transport)\n",
    "print(\"Education: \",environnement_education)\n",
    "print(\"Culture: \",environnement_culture)\n",
    "print(\"Commerce: \",environnement_commerce)"
   ]
  }
 ],
 "metadata": {
  "kernelspec": {
   "display_name": "Python 3",
   "language": "python",
   "name": "python3"
  },
  "language_info": {
   "codemirror_mode": {
    "name": "ipython",
    "version": 3
   },
   "file_extension": ".py",
   "mimetype": "text/x-python",
   "name": "python",
   "nbconvert_exporter": "python",
   "pygments_lexer": "ipython3",
   "version": "3.4.2"
  }
 },
 "nbformat": 4,
 "nbformat_minor": 2
}
