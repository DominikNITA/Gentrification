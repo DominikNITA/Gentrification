{
 "cells": [
  {
   "cell_type": "code",
   "execution_count": 7,
   "metadata": {},
   "outputs": [],
   "source": [
    "N=8\n",
    "M=8\n",
    "liste_CL=[0, 1, 2, 3, 4]\n",
    "taux_habité=0.6\n",
    "liste_prix=['A','B','C','D','E']"
   ]
  },
  {
   "cell_type": "code",
   "execution_count": 3,
   "metadata": {},
   "outputs": [],
   "source": [
    "def matrice_agents(N, M, liste_CL,taux_habité):\n",
    "    \n",
    "    #matrice_agents: list[list[(str:int)]]\n",
    "    matrice_agents=[]\n",
    "    \n",
    "    for i in range(N):\n",
    "        ligne=[]\n",
    "        for j in range(M):\n",
    "            occupé = np.random.choice(['habité', 'vide'],p=[taux_habité,1-taux_habité])\n",
    "            if occupé == 'habité':\n",
    "                CL = np.random.choice(liste_CL)\n",
    "            else:\n",
    "                CL= 6\n",
    "            ligne.append((occupé,CL))\n",
    "        matrice_agents.append(ligne)\n",
    "    \n",
    "    return matrice_agents"
   ]
  },
  {
   "cell_type": "code",
   "execution_count": 12,
   "metadata": {},
   "outputs": [],
   "source": [
    "import numpy as np"
   ]
  },
  {
   "cell_type": "markdown",
   "metadata": {},
   "source": [
    "Pour la simplicité du code on va fixer une matrice de 8x8, divisée en 16 quartiers de 2x2."
   ]
  },
  {
   "cell_type": "code",
   "execution_count": null,
   "metadata": {},
   "outputs": [],
   "source": [
    "n=2 #dimension quartier\n",
    "m=2 #dimension quartier"
   ]
  },
  {
   "cell_type": "code",
   "execution_count": 17,
   "metadata": {},
   "outputs": [],
   "source": [
    "def prix_par_quartier(N,M, n, m,liste_prix):\n",
    "    \n",
    "    #environnement:list[liste[str]]\n",
    "    environnement=[]\n",
    "    i=0\n",
    "    j=0\n",
    "    \n",
    "    while i < N:\n",
    "        ligne=[]\n",
    "        while j < M:\n",
    "            prix= np.random.choice(liste_prix)\n",
    "            for b in range(m):\n",
    "                "
   ]
  }
 ],
 "metadata": {
  "kernelspec": {
   "display_name": "Python 3",
   "language": "python",
   "name": "python3"
  },
  "language_info": {
   "codemirror_mode": {
    "name": "ipython",
    "version": 3
   },
   "file_extension": ".py",
   "mimetype": "text/x-python",
   "name": "python",
   "nbconvert_exporter": "python",
   "pygments_lexer": "ipython3",
   "version": "3.4.2"
  }
 },
 "nbformat": 4,
 "nbformat_minor": 2
}
