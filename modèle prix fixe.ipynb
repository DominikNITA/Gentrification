{
 "cells": [
  {
   "cell_type": "markdown",
   "metadata": {},
   "source": [
    "Implémentation de la dynamique selon laquelle les agents déménagent jusqu'à trouver un habitat adapté à leur classe sociale."
   ]
  },
  {
   "cell_type": "code",
   "execution_count": 57,
   "metadata": {},
   "outputs": [],
   "source": [
    "N=3\n",
    "M=3\n",
    "liste_prix=['A','B','C','D','E']"
   ]
  },
  {
   "cell_type": "code",
   "execution_count": 58,
   "metadata": {},
   "outputs": [],
   "source": [
    "import numpy as np"
   ]
  },
  {
   "cell_type": "code",
   "execution_count": 71,
   "metadata": {},
   "outputs": [],
   "source": [
    "def environnement(N,M,liste_prix):\n",
    "    \n",
    "    #environnement:list[liste[str]]\n",
    "    environnement=[]\n",
    "    \n",
    "    for i in range(N):\n",
    "        ligne=[]\n",
    "        for j in range(M):\n",
    "            ligne.append(np.random.choice(liste_prix))\n",
    "        environnement.append(ligne)\n",
    "    \n",
    "    return environnement"
   ]
  },
  {
   "cell_type": "code",
   "execution_count": 74,
   "metadata": {},
   "outputs": [
    {
     "name": "stdout",
     "output_type": "stream",
     "text": [
      "[['E', 'B', 'C'], ['E', 'B', 'B'], ['E', 'D', 'A']]\n"
     ]
    }
   ],
   "source": [
    "print(environnement(N,M,liste_prix))"
   ]
  },
  {
   "cell_type": "code",
   "execution_count": 75,
   "metadata": {},
   "outputs": [],
   "source": [
    "liste_CL=[0, 1, 2, 3, 4]\n",
    "taux_habité=0.5"
   ]
  },
  {
   "cell_type": "code",
   "execution_count": 76,
   "metadata": {},
   "outputs": [],
   "source": [
    "def matrice_agents(N, M, liste_CL,taux_habité):\n",
    "    \n",
    "    #matrice_agents: list[list[(str:int)]]\n",
    "    matrice_agents=[]\n",
    "    \n",
    "    for i in range(N):\n",
    "        ligne=[]\n",
    "        for j in range(M):\n",
    "            occupé = np.random.choice(['habité', 'vide'],p=[taux_habité,1-taux_habité])\n",
    "            CL = np.random.choice(liste_CL)\n",
    "            ligne.append((occupé,CL))\n",
    "        matrice_agents.append(ligne)\n",
    "    \n",
    "    return matrice_agents"
   ]
  },
  {
   "cell_type": "code",
   "execution_count": 78,
   "metadata": {},
   "outputs": [
    {
     "name": "stdout",
     "output_type": "stream",
     "text": [
      "[[('vide', 3), ('habité', 2), ('habité', 2)], [('vide', 3), ('habité', 2), ('habité', 1)], [('habité', 0), ('vide', 2), ('habité', 4)]]\n"
     ]
    }
   ],
   "source": [
    "print(matrice_agents(N, M, liste_CL,taux_habité))"
   ]
  },
  {
   "cell_type": "code",
   "execution_count": 35,
   "metadata": {},
   "outputs": [],
   "source": [
    "def satisfaction(N,M,liste_prix,liste_CL,taux_habité):\n",
    "    \n",
    "   #matrice_agents_satisfaits= list[list[(str,int,str)]]\n",
    "    matrice_agents_satisfaits=[]\n",
    "    \n",
    "    for i in range(N):\n",
    "        ligne=matrice_agents1[i]\n",
    "        ligne_satisfait=[]\n",
    "        for j in range(M):\n",
    "            agent=ligne[j]\n",
    "            \n",
    "            if agent[0] == 'habité':\n",
    "                indice = agent[1]\n",
    "                prix_habitat= environnement1[i][j]\n",
    "                \n",
    "                if indice == liste_CL[0]:\n",
    "                    if prix_habitat == liste_prix[indice] or prix_habitat == liste_prix[indice + 1]:\n",
    "                        ligne_satisfait.append((agent[0], agent[1], 'satisfait'))\n",
    "                    else:\n",
    "                        ligne_satisfait.append((agent[0], agent[1], 'demenage'))\n",
    "                elif indice == liste_CL[len(liste_CL)-1]:\n",
    "                    if prix_habitat == liste_prix[indice] or prix_habitat == liste_prix[indice - 1]:\n",
    "                        ligne_satisfait.append((agent[0], agent[1], 'satisfait'))\n",
    "                    else:\n",
    "                        ligne_satisfait.append((agent[0], agent[1], 'demenage'))\n",
    "                else:\n",
    "                    if prix_habitat == liste_CL[indice] or prix_habitat == liste_CL[indice - 1] or prix_habitat == liste_CL[indice + 1]:\n",
    "                        ligne_satisfait.append((agent[0], agent[1], 'satisfait'))\n",
    "                    else:\n",
    "                        ligne_satisfait.append((agent[0], agent[1], 'demenage'))\n",
    "                \n",
    "            else:\n",
    "                ligne_satisfait.append((agent[0], agent[1], 'vide'))\n",
    "    \n",
    "        matrice_agents_satisfaits.append(ligne_satisfait)\n",
    "    \n",
    "    return matrice_agents_satisfaits"
   ]
  },
  {
   "cell_type": "code",
   "execution_count": 43,
   "metadata": {},
   "outputs": [
    {
     "name": "stdout",
     "output_type": "stream",
     "text": [
      "[[('habité', 3, 'demenage'), ('vide', 0, 'vide'), ('vide', 2, 'vide')], [('habité', 0, 'demenage'), ('habité', 0, 'satisfait'), ('vide', 2, 'vide')], [('vide', 3, 'vide'), ('vide', 3, 'vide'), ('habité', 4, 'demenage')]]\n"
     ]
    }
   ],
   "source": [
    "print(satisfaction(N,M,liste_prix,liste_CL,taux_habité))"
   ]
  },
  {
   "cell_type": "markdown",
   "metadata": {},
   "source": [
    "Chercher à passer les matrices matrice_agents1, matrice_agents_satisfaits= satisfaction et environnement1 en paramètre\n",
    "Corriger le fonction mouvement"
   ]
  },
  {
   "cell_type": "code",
   "execution_count": 50,
   "metadata": {},
   "outputs": [],
   "source": [
    "def mouvement(N,M,liste_prix,liste_CL,taux_habité):\n",
    "    \n",
    "    environnement1= environnement(N,M,liste_prix)\n",
    "    matrice_agents1= matrice_agents(N, M, liste_CL,taux_habité)\n",
    "    matrice_agents_satisfaits= satisfaction(N,M,liste_prix,liste_CL,taux_habité)\n",
    "    \n",
    "    print(matrice_agents_satisfaits)\n",
    "    \n",
    "    for i in range(N):\n",
    "        ligne = matrice_agents_satisfaits[i]\n",
    "        for j in range(M):\n",
    "            agent = ligne[j]\n",
    "            \n",
    "            if agent[2] == 'demenage':\n",
    "                \n",
    "                b=True\n",
    "                k=0\n",
    "                while k < N and b:\n",
    "                    rang= matrice_agents1[k]\n",
    "                    l=0\n",
    "                    while l < M and b:\n",
    "                        place= rang[l]\n",
    "                        if place[0] == 'vide':\n",
    "                            place = agent[0:2]\n",
    "                            matrice_agents1[i][j]= ('vide', 0)\n",
    "                            b = False\n",
    "                        l=l+1    \n",
    "                    k=k+1\n",
    "                    \n",
    "    return matrice_agents1"
   ]
  },
  {
   "cell_type": "code",
   "execution_count": 51,
   "metadata": {},
   "outputs": [
    {
     "name": "stdout",
     "output_type": "stream",
     "text": [
      "[[('vide', 3, 'vide'), ('vide', 4, 'vide'), ('vide', 2, 'vide')], [('habité', 0, 'demenage'), ('habité', 3, 'demenage'), ('vide', 1, 'vide')], [('vide', 4, 'vide'), ('vide', 1, 'vide'), ('habité', 2, 'demenage')]]\n",
      "[[('habité', 3), ('habité', 4), ('habité', 4)], [('vide', 0), ('vide', 0), ('vide', 4)], [('habité', 1), ('habité', 0), ('vide', 0)]]\n"
     ]
    }
   ],
   "source": [
    "print(mouvement(N,M,liste_prix,liste_CL,taux_habité))"
   ]
  }
 ],
 "metadata": {
  "kernelspec": {
   "display_name": "Python 3",
   "language": "python",
   "name": "python3"
  },
  "language_info": {
   "codemirror_mode": {
    "name": "ipython",
    "version": 3
   },
   "file_extension": ".py",
   "mimetype": "text/x-python",
   "name": "python",
   "nbconvert_exporter": "python",
   "pygments_lexer": "ipython3",
   "version": "3.4.2"
  }
 },
 "nbformat": 4,
 "nbformat_minor": 2
}
