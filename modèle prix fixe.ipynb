{
 "cells": [
  {
   "cell_type": "code",
   "execution_count": 98,
   "metadata": {},
   "outputs": [],
   "source": [
    "N=5\n",
    "M=5\n",
    "liste_prix=['A','B','C','D','E']"
   ]
  },
  {
   "cell_type": "code",
   "execution_count": 2,
   "metadata": {},
   "outputs": [],
   "source": [
    "import numpy as np"
   ]
  },
  {
   "cell_type": "code",
   "execution_count": 108,
   "metadata": {},
   "outputs": [],
   "source": [
    "def environnement(N,M,liste_prix):\n",
    "    \n",
    "    #environnement:list[liste[str]]\n",
    "    environnement=np.random.choice((liste_prix), size=(N,M))\n",
    "    \n",
    "    return environnement"
   ]
  },
  {
   "cell_type": "code",
   "execution_count": 109,
   "metadata": {},
   "outputs": [
    {
     "name": "stdout",
     "output_type": "stream",
     "text": [
      "[['D' 'C' 'B' 'C' 'B']\n",
      " ['D' 'E' 'E' 'E' 'C']\n",
      " ['A' 'C' 'A' 'A' 'A']\n",
      " ['E' 'A' 'E' 'A' 'C']\n",
      " ['B' 'A' 'A' 'E' 'C']]\n"
     ]
    }
   ],
   "source": [
    "print(environnement(N,M,liste_prix))"
   ]
  },
  {
   "cell_type": "code",
   "execution_count": 88,
   "metadata": {},
   "outputs": [],
   "source": [
    "liste_CL=[0, 1, 2, 3, 4]\n",
    "taux_habité=0.6"
   ]
  },
  {
   "cell_type": "code",
   "execution_count": 25,
   "metadata": {},
   "outputs": [],
   "source": [
    "def matrice_agents(N, M, liste_CL,taux_habité):\n",
    "    \n",
    "    #matrice_agents: list[list[(str:int)]]\n",
    "    matrice_agents=[]\n",
    "    \n",
    "    for i in range(N):\n",
    "        ligne=[]\n",
    "        for j in range(M):\n",
    "            occupé = np.random.choice(['habité', 'vide'],p=[taux_habité,1-taux_habité])\n",
    "            if occupé == 'habité':\n",
    "                CL = np.random.choice(liste_CL)\n",
    "            else:\n",
    "                CL= 6\n",
    "            ligne.append((occupé,CL))\n",
    "        matrice_agents.append(ligne)\n",
    "    \n",
    "    return matrice_agents"
   ]
  },
  {
   "cell_type": "code",
   "execution_count": 27,
   "metadata": {
    "scrolled": true
   },
   "outputs": [
    {
     "name": "stdout",
     "output_type": "stream",
     "text": [
      "[[('habité', 0), ('vide', 6), ('vide', 6)], [('habité', 0), ('vide', 6), ('habité', 3)], [('habité', 4), ('habité', 3), ('vide', 6)]]\n"
     ]
    }
   ],
   "source": [
    "print(matrice_agents(N, M, liste_CL,taux_habité))"
   ]
  },
  {
   "cell_type": "code",
   "execution_count": 136,
   "metadata": {},
   "outputs": [
    {
     "name": "stdout",
     "output_type": "stream",
     "text": [
      "[[('habité', 4), ('vide', 6), ('habité', 4), ('vide', 6), ('habité', 1)], [('vide', 6), ('vide', 6), ('vide', 6), ('habité', 2), ('habité', 2)], [('habité', 3), ('vide', 6), ('habité', 1), ('vide', 6), ('habité', 4)], [('vide', 6), ('habité', 4), ('habité', 0), ('vide', 6), ('habité', 3)], [('vide', 6), ('habité', 2), ('vide', 6), ('vide', 6), ('vide', 6)]]\n",
      "[['C' 'E' 'E' 'A' 'D']\n",
      " ['E' 'D' 'C' 'D' 'C']\n",
      " ['D' 'A' 'C' 'B' 'B']\n",
      " ['A' 'B' 'C' 'A' 'E']\n",
      " ['E' 'E' 'E' 'C' 'A']]\n"
     ]
    }
   ],
   "source": [
    "matrice_agents1= matrice_agents(N, M, liste_CL,taux_habité)\n",
    "environnement1 = environnement(N,M,liste_prix)\n",
    "print(matrice_agents1)\n",
    "print(environnement1)"
   ]
  },
  {
   "cell_type": "code",
   "execution_count": 77,
   "metadata": {},
   "outputs": [],
   "source": [
    "def satisfaction(N,M,liste_prix,liste_CL,taux_habité,matrice_agents1, environnement1):\n",
    "    \n",
    "    #matrice_agents_satisfaits= list[list[(str,int,str)]]\n",
    "    matrice_agents_satisfaits=[]\n",
    "    #matrice_agents1= matrice_agents(N, M, liste_CL,taux_habité)\n",
    "    #environnement1 = environnement(N,M,liste_prix)\n",
    "    matrice_agents= matrice_agents1.copy()\n",
    "    environnement= environnement1.copy()\n",
    "    #print(matrice_agents)\n",
    "    #print(environnement)\n",
    "    \n",
    "    for i in range(N):\n",
    "        ligne=matrice_agents[i]\n",
    "        ligne_satisfait=[]\n",
    "        for j in range(M):\n",
    "            agent=ligne[j]\n",
    "            \n",
    "            if agent[0] == 'habité':\n",
    "                indice = agent[1]\n",
    "                prix_habitat= environnement[i][j]\n",
    "                \n",
    "                if indice == liste_CL[0]:\n",
    "                    if prix_habitat == liste_prix[indice] or prix_habitat == liste_prix[indice + 1]:\n",
    "                        ligne_satisfait.append((agent[0], agent[1], 'satisfait'))\n",
    "                    else:\n",
    "                        ligne_satisfait.append((agent[0], agent[1], 'demenage'))\n",
    "                \n",
    "                elif indice == liste_CL[len(liste_CL)-1]:\n",
    "                    if prix_habitat == liste_prix[indice] or prix_habitat == liste_prix[indice - 1]:\n",
    "                        ligne_satisfait.append((agent[0], agent[1], 'satisfait'))\n",
    "                    else:\n",
    "                        ligne_satisfait.append((agent[0], agent[1], 'demenage'))\n",
    "                \n",
    "                else:\n",
    "                    if prix_habitat == liste_prix[indice] or prix_habitat == liste_prix[indice - 1] or prix_habitat == liste_prix[indice + 1]:\n",
    "                        ligne_satisfait.append((agent[0], agent[1], 'satisfait'))\n",
    "                    else:\n",
    "                        ligne_satisfait.append((agent[0], agent[1], 'demenage'))\n",
    "                \n",
    "            else:\n",
    "                ligne_satisfait.append((agent[0], agent[1], 'vide'))\n",
    "    \n",
    "        matrice_agents_satisfaits.append(ligne_satisfait)\n",
    "    \n",
    "    return matrice_agents_satisfaits"
   ]
  },
  {
   "cell_type": "code",
   "execution_count": 78,
   "metadata": {
    "scrolled": false
   },
   "outputs": [
    {
     "name": "stdout",
     "output_type": "stream",
     "text": [
      "[[('vide', 6, 'vide'), ('habité', 3, 'satisfait'), ('habité', 1, 'satisfait')], [('habité', 4, 'satisfait'), ('habité', 0, 'satisfait'), ('habité', 0, 'satisfait')], [('vide', 6, 'vide'), ('habité', 2, 'satisfait'), ('vide', 6, 'vide')]]\n"
     ]
    }
   ],
   "source": [
    "print(satisfaction(N,M,liste_prix,liste_CL,taux_habité,matrice_agents1, environnement1))"
   ]
  },
  {
   "cell_type": "code",
   "execution_count": 80,
   "metadata": {},
   "outputs": [],
   "source": [
    "def mouvement(N,M,liste_prix,liste_CL,taux_habité,matrice_agents1, environnement1):\n",
    "    \n",
    "    matrice_agents= matrice_agents1.copy()\n",
    "    environnement= environnement1.copy()\n",
    "    matrice_agents_satisfaits= satisfaction(N,M,liste_prix,liste_CL,taux_habité,matrice_agents1, environnement1)\n",
    "    print(matrice_agents_satisfaits)\n",
    "    \n",
    "    for i in range(N):\n",
    "        ligne = matrice_agents_satisfaits[i]\n",
    "        for j in range(M):\n",
    "            agent = ligne[j]\n",
    "            \n",
    "            if agent[2] == 'demenage':\n",
    "                b = True\n",
    "                k=0\n",
    "                \n",
    "                while k < N and b:\n",
    "                    rang= matrice_agents[k]\n",
    "                    l=0\n",
    "                    while l < M and b:\n",
    "                        place= rang[l]\n",
    "                        \n",
    "                        if place[0] == 'vide':\n",
    "                            matrice_agents[k][l] = ('habité', agent[1])\n",
    "                            matrice_agents[i][j]= ('vide', 6)\n",
    "                            b = False\n",
    "                            print('agent', i, j, 'déménage vers place',k, l)\n",
    "                        l=l+1    \n",
    "                    k=k+1\n",
    "               \n",
    "    return matrice_agents"
   ]
  },
  {
   "cell_type": "code",
   "execution_count": 73,
   "metadata": {},
   "outputs": [
    {
     "name": "stdout",
     "output_type": "stream",
     "text": [
      "[[('vide', 6), ('habité', 3), ('habité', 1)], [('habité', 4), ('habité', 0), ('habité', 0)], [('vide', 6), ('habité', 2), ('vide', 6)]]\n",
      "[[('vide', 6, 'vide'), ('habité', 3, 'satisfait'), ('habité', 1, 'satisfait')], [('habité', 4, 'satisfait'), ('habité', 0, 'satisfait'), ('habité', 0, 'satisfait')], [('vide', 6, 'vide'), ('habité', 2, 'satisfait'), ('vide', 6, 'vide')]]\n",
      "[[('vide', 6), ('habité', 3), ('habité', 1)], [('habité', 4), ('habité', 0), ('habité', 0)], [('vide', 6), ('habité', 2), ('vide', 6)]]\n"
     ]
    }
   ],
   "source": [
    "print(mouvement(N,M,liste_prix,liste_CL,taux_habité,matrice_agents1, environnement1))"
   ]
  },
  {
   "cell_type": "code",
   "execution_count": 115,
   "metadata": {},
   "outputs": [],
   "source": [
    "def simulation(N,M,liste_prix,liste_CL,taux_habité,matrice_agents1, environnement1,nb_tour):\n",
    "    matrice_agents= matrice_agents1.copy()\n",
    "    \n",
    "    for i in range(1,nb_tour):\n",
    "        matrice_agents= mouvement(N,M,liste_prix,liste_CL,taux_habité,matrice_agents1, environnement1)\n",
    "        print('TOUR',i, matrice_agents)\n",
    "    return 'Fin'"
   ]
  },
  {
   "cell_type": "code",
   "execution_count": 119,
   "metadata": {},
   "outputs": [
    {
     "name": "stdout",
     "output_type": "stream",
     "text": [
      "[[('vide', 6, 'vide'), ('vide', 6, 'vide'), ('habité', 4, 'satisfait'), ('habité', 4, 'satisfait'), ('habité', 0, 'demenage')], [('vide', 6, 'vide'), ('habité', 2, 'satisfait'), ('vide', 6, 'vide'), ('vide', 6, 'vide'), ('habité', 4, 'demenage')], [('habité', 2, 'satisfait'), ('habité', 2, 'demenage'), ('vide', 6, 'vide'), ('habité', 4, 'satisfait'), ('habité', 2, 'demenage')], [('habité', 0, 'demenage'), ('vide', 6, 'vide'), ('habité', 0, 'satisfait'), ('habité', 0, 'satisfait'), ('habité', 3, 'satisfait')], [('habité', 3, 'satisfait'), ('habité', 1, 'satisfait'), ('vide', 6, 'vide'), ('habité', 1, 'demenage'), ('habité', 4, 'satisfait')]]\n",
      "agent 0 4 déménage vers place 0 0\n",
      "agent 1 4 déménage vers place 0 1\n",
      "agent 2 1 déménage vers place 0 4\n",
      "agent 2 4 déménage vers place 1 0\n",
      "agent 3 0 déménage vers place 1 2\n",
      "agent 4 3 déménage vers place 1 3\n",
      "TOUR 1 [[('habité', 0), ('habité', 4), ('habité', 4), ('habité', 4), ('habité', 2)], [('habité', 2), ('habité', 2), ('habité', 0), ('habité', 1), ('vide', 6)], [('habité', 2), ('vide', 6), ('vide', 6), ('habité', 4), ('vide', 6)], [('vide', 6), ('vide', 6), ('habité', 0), ('habité', 0), ('habité', 3)], [('habité', 3), ('habité', 1), ('vide', 6), ('vide', 6), ('habité', 4)]]\n",
      "[[('habité', 0, 'demenage'), ('habité', 4, 'demenage'), ('habité', 4, 'satisfait'), ('habité', 4, 'satisfait'), ('habité', 2, 'demenage')], [('habité', 2, 'demenage'), ('habité', 2, 'satisfait'), ('habité', 0, 'demenage'), ('habité', 1, 'demenage'), ('vide', 6, 'vide')], [('habité', 2, 'satisfait'), ('vide', 6, 'vide'), ('vide', 6, 'vide'), ('habité', 4, 'satisfait'), ('vide', 6, 'vide')], [('vide', 6, 'vide'), ('vide', 6, 'vide'), ('habité', 0, 'satisfait'), ('habité', 0, 'satisfait'), ('habité', 3, 'satisfait')], [('habité', 3, 'satisfait'), ('habité', 1, 'satisfait'), ('vide', 6, 'vide'), ('vide', 6, 'vide'), ('habité', 4, 'satisfait')]]\n",
      "agent 0 0 déménage vers place 1 4\n",
      "agent 0 1 déménage vers place 0 0\n",
      "agent 0 4 déménage vers place 0 1\n",
      "agent 1 0 déménage vers place 0 4\n",
      "agent 1 2 déménage vers place 1 0\n",
      "agent 1 3 déménage vers place 1 2\n",
      "TOUR 2 [[('habité', 4), ('habité', 2), ('habité', 4), ('habité', 4), ('habité', 2)], [('habité', 0), ('habité', 2), ('habité', 1), ('vide', 6), ('habité', 0)], [('habité', 2), ('vide', 6), ('vide', 6), ('habité', 4), ('vide', 6)], [('vide', 6), ('vide', 6), ('habité', 0), ('habité', 0), ('habité', 3)], [('habité', 3), ('habité', 1), ('vide', 6), ('vide', 6), ('habité', 4)]]\n",
      "[[('habité', 4, 'satisfait'), ('habité', 2, 'satisfait'), ('habité', 4, 'satisfait'), ('habité', 4, 'satisfait'), ('habité', 2, 'demenage')], [('habité', 0, 'satisfait'), ('habité', 2, 'satisfait'), ('habité', 1, 'satisfait'), ('vide', 6, 'vide'), ('habité', 0, 'satisfait')], [('habité', 2, 'satisfait'), ('vide', 6, 'vide'), ('vide', 6, 'vide'), ('habité', 4, 'satisfait'), ('vide', 6, 'vide')], [('vide', 6, 'vide'), ('vide', 6, 'vide'), ('habité', 0, 'satisfait'), ('habité', 0, 'satisfait'), ('habité', 3, 'satisfait')], [('habité', 3, 'satisfait'), ('habité', 1, 'satisfait'), ('vide', 6, 'vide'), ('vide', 6, 'vide'), ('habité', 4, 'satisfait')]]\n",
      "agent 0 4 déménage vers place 1 3\n",
      "TOUR 3 [[('habité', 4), ('habité', 2), ('habité', 4), ('habité', 4), ('vide', 6)], [('habité', 0), ('habité', 2), ('habité', 1), ('habité', 2), ('habité', 0)], [('habité', 2), ('vide', 6), ('vide', 6), ('habité', 4), ('vide', 6)], [('vide', 6), ('vide', 6), ('habité', 0), ('habité', 0), ('habité', 3)], [('habité', 3), ('habité', 1), ('vide', 6), ('vide', 6), ('habité', 4)]]\n",
      "[[('habité', 4, 'satisfait'), ('habité', 2, 'satisfait'), ('habité', 4, 'satisfait'), ('habité', 4, 'satisfait'), ('vide', 6, 'vide')], [('habité', 0, 'satisfait'), ('habité', 2, 'satisfait'), ('habité', 1, 'satisfait'), ('habité', 2, 'satisfait'), ('habité', 0, 'satisfait')], [('habité', 2, 'satisfait'), ('vide', 6, 'vide'), ('vide', 6, 'vide'), ('habité', 4, 'satisfait'), ('vide', 6, 'vide')], [('vide', 6, 'vide'), ('vide', 6, 'vide'), ('habité', 0, 'satisfait'), ('habité', 0, 'satisfait'), ('habité', 3, 'satisfait')], [('habité', 3, 'satisfait'), ('habité', 1, 'satisfait'), ('vide', 6, 'vide'), ('vide', 6, 'vide'), ('habité', 4, 'satisfait')]]\n",
      "TOUR 4 [[('habité', 4), ('habité', 2), ('habité', 4), ('habité', 4), ('vide', 6)], [('habité', 0), ('habité', 2), ('habité', 1), ('habité', 2), ('habité', 0)], [('habité', 2), ('vide', 6), ('vide', 6), ('habité', 4), ('vide', 6)], [('vide', 6), ('vide', 6), ('habité', 0), ('habité', 0), ('habité', 3)], [('habité', 3), ('habité', 1), ('vide', 6), ('vide', 6), ('habité', 4)]]\n",
      "Fin\n"
     ]
    }
   ],
   "source": [
    "nb_tour= 5\n",
    "print(simulation(N,M,liste_prix,liste_CL,taux_habité,matrice_agents1, environnement1,nb_tour))"
   ]
  },
  {
   "cell_type": "markdown",
   "metadata": {},
   "source": [
    "Nous allons maintenant appliquer une évolution du prix de l'immobilier à notre modèle. Le prix varie (ou non) d'une catégorie (vers la gauche ou vers la droite) à chaque tour."
   ]
  },
  {
   "cell_type": "code",
   "execution_count": 132,
   "metadata": {},
   "outputs": [],
   "source": [
    "def prix_immobilier(environnement1):\n",
    "    environnement=environnement1.copy()\n",
    "    print(environnement)\n",
    "    for k in range(N):\n",
    "        ligne= environnement[k]\n",
    "        for l in range(M):\n",
    "            habitat= ligne[l]\n",
    "            if habitat== liste_prix[0]:\n",
    "                environnement[k][l]= liste_prix[0 + random.randint(0,1)]\n",
    "            elif habitat== liste_prix[4]:\n",
    "                environnement[k][l]= liste_prix[4 + random.randint(-1,0)]\n",
    "            else:\n",
    "                i= liste_prix.index(habitat)\n",
    "                environnement[k][l]= liste_prix[i + random.randint(-1,1)]\n",
    "    return environnement"
   ]
  },
  {
   "cell_type": "code",
   "execution_count": 122,
   "metadata": {},
   "outputs": [],
   "source": [
    "import random"
   ]
  },
  {
   "cell_type": "code",
   "execution_count": 133,
   "metadata": {
    "scrolled": true
   },
   "outputs": [
    {
     "name": "stdout",
     "output_type": "stream",
     "text": [
      "[['E' 'C' 'E' 'D' 'E']\n",
      " ['A' 'C' 'C' 'D' 'A']\n",
      " ['C' 'E' 'E' 'E' 'A']\n",
      " ['C' 'B' 'A' 'B' 'D']\n",
      " ['D' 'B' 'A' 'E' 'E']]\n",
      "[['E' 'C' 'E' 'E' 'D']\n",
      " ['B' 'B' 'B' 'D' 'A']\n",
      " ['C' 'D' 'E' 'E' 'B']\n",
      " ['C' 'B' 'B' 'B' 'C']\n",
      " ['E' 'C' 'A' 'E' 'E']]\n"
     ]
    }
   ],
   "source": [
    "print(prix_immobilier(environnement1))"
   ]
  },
  {
   "cell_type": "code",
   "execution_count": 138,
   "metadata": {},
   "outputs": [],
   "source": [
    "def simulation_avec_evolution_prix(N,M,liste_prix,liste_CL,taux_habité,matrice_agents1, environnement1,nb_tour):\n",
    "    matrice_agents= matrice_agents1.copy()\n",
    "    environnement= environnement1.copy()\n",
    "    print(environnement)\n",
    "    \n",
    "    for i in range(1,nb_tour):\n",
    "        matrice_agents= mouvement(N,M,liste_prix,liste_CL,taux_habité,matrice_agents, environnement)\n",
    "        print('TOUR',i, matrice_agents)\n",
    "        \n",
    "        environnement= prix_immobilier(environnement)\n",
    "        #print(environnement)\n",
    "    \n",
    "    return 'Fin'"
   ]
  },
  {
   "cell_type": "code",
   "execution_count": 140,
   "metadata": {},
   "outputs": [
    {
     "name": "stdout",
     "output_type": "stream",
     "text": [
      "[['C' 'E' 'E' 'A' 'D']\n",
      " ['E' 'D' 'C' 'D' 'C']\n",
      " ['D' 'A' 'C' 'B' 'B']\n",
      " ['A' 'B' 'C' 'A' 'E']\n",
      " ['E' 'E' 'E' 'C' 'A']]\n",
      "[[('habité', 4, 'demenage'), ('vide', 6, 'vide'), ('habité', 2, 'demenage'), ('habité', 1, 'satisfait'), ('habité', 4, 'satisfait')], [('habité', 4, 'satisfait'), ('habité', 2, 'satisfait'), ('habité', 4, 'demenage'), ('habité', 2, 'satisfait'), ('habité', 1, 'satisfait')], [('habité', 3, 'satisfait'), ('habité', 0, 'satisfait'), ('vide', 6, 'vide'), ('vide', 6, 'vide'), ('vide', 6, 'vide')], [('vide', 6, 'vide'), ('vide', 6, 'vide'), ('vide', 6, 'vide'), ('vide', 6, 'vide'), ('habité', 3, 'satisfait')], [('vide', 6, 'vide'), ('vide', 6, 'vide'), ('vide', 6, 'vide'), ('vide', 6, 'vide'), ('vide', 6, 'vide')]]\n",
      "agent 0 0 déménage vers place 0 1\n",
      "agent 0 2 déménage vers place 0 0\n",
      "agent 1 2 déménage vers place 0 2\n",
      "TOUR 1 [[('habité', 2), ('habité', 4), ('habité', 4), ('habité', 1), ('habité', 4)], [('habité', 4), ('habité', 2), ('vide', 6), ('habité', 2), ('habité', 1)], [('habité', 3), ('habité', 0), ('vide', 6), ('vide', 6), ('vide', 6)], [('vide', 6), ('vide', 6), ('vide', 6), ('vide', 6), ('habité', 3)], [('vide', 6), ('vide', 6), ('vide', 6), ('vide', 6), ('vide', 6)]]\n",
      "[['C' 'E' 'E' 'A' 'D']\n",
      " ['E' 'D' 'C' 'D' 'C']\n",
      " ['D' 'A' 'C' 'B' 'B']\n",
      " ['A' 'B' 'C' 'A' 'E']\n",
      " ['E' 'E' 'E' 'C' 'A']]\n",
      "[[('habité', 2, 'satisfait'), ('habité', 4, 'satisfait'), ('habité', 4, 'satisfait'), ('habité', 1, 'satisfait'), ('habité', 4, 'satisfait')], [('habité', 4, 'satisfait'), ('habité', 2, 'demenage'), ('vide', 6, 'vide'), ('habité', 2, 'satisfait'), ('habité', 1, 'demenage')], [('habité', 3, 'satisfait'), ('habité', 0, 'satisfait'), ('vide', 6, 'vide'), ('vide', 6, 'vide'), ('vide', 6, 'vide')], [('vide', 6, 'vide'), ('vide', 6, 'vide'), ('vide', 6, 'vide'), ('vide', 6, 'vide'), ('habité', 3, 'satisfait')], [('vide', 6, 'vide'), ('vide', 6, 'vide'), ('vide', 6, 'vide'), ('vide', 6, 'vide'), ('vide', 6, 'vide')]]\n",
      "agent 1 1 déménage vers place 1 2\n",
      "agent 1 4 déménage vers place 1 1\n",
      "TOUR 2 [[('habité', 2), ('habité', 4), ('habité', 4), ('habité', 1), ('habité', 4)], [('habité', 4), ('habité', 1), ('habité', 2), ('habité', 2), ('vide', 6)], [('habité', 3), ('habité', 0), ('vide', 6), ('vide', 6), ('vide', 6)], [('vide', 6), ('vide', 6), ('vide', 6), ('vide', 6), ('habité', 3)], [('vide', 6), ('vide', 6), ('vide', 6), ('vide', 6), ('vide', 6)]]\n",
      "[['D' 'D' 'E' 'B' 'E']\n",
      " ['D' 'E' 'C' 'D' 'D']\n",
      " ['E' 'B' 'D' 'A' 'B']\n",
      " ['A' 'C' 'C' 'A' 'E']\n",
      " ['D' 'E' 'E' 'D' 'B']]\n",
      "[[('habité', 2, 'demenage'), ('habité', 4, 'satisfait'), ('habité', 4, 'satisfait'), ('habité', 1, 'satisfait'), ('habité', 4, 'satisfait')], [('habité', 4, 'satisfait'), ('habité', 1, 'demenage'), ('habité', 2, 'satisfait'), ('habité', 2, 'demenage'), ('vide', 6, 'vide')], [('habité', 3, 'satisfait'), ('habité', 0, 'satisfait'), ('vide', 6, 'vide'), ('vide', 6, 'vide'), ('vide', 6, 'vide')], [('vide', 6, 'vide'), ('vide', 6, 'vide'), ('vide', 6, 'vide'), ('vide', 6, 'vide'), ('habité', 3, 'satisfait')], [('vide', 6, 'vide'), ('vide', 6, 'vide'), ('vide', 6, 'vide'), ('vide', 6, 'vide'), ('vide', 6, 'vide')]]\n",
      "agent 0 0 déménage vers place 1 4\n",
      "agent 1 1 déménage vers place 0 0\n",
      "agent 1 3 déménage vers place 1 1\n",
      "TOUR 3 [[('habité', 1), ('habité', 4), ('habité', 4), ('habité', 1), ('habité', 4)], [('habité', 4), ('habité', 2), ('habité', 2), ('vide', 6), ('habité', 2)], [('habité', 3), ('habité', 0), ('vide', 6), ('vide', 6), ('vide', 6)], [('vide', 6), ('vide', 6), ('vide', 6), ('vide', 6), ('habité', 3)], [('vide', 6), ('vide', 6), ('vide', 6), ('vide', 6), ('vide', 6)]]\n",
      "[['E' 'E' 'E' 'A' 'D']\n",
      " ['E' 'D' 'B' 'E' 'C']\n",
      " ['D' 'B' 'D' 'B' 'A']\n",
      " ['A' 'D' 'D' 'A' 'E']\n",
      " ['D' 'E' 'D' 'D' 'A']]\n",
      "[[('habité', 1, 'demenage'), ('habité', 4, 'satisfait'), ('habité', 4, 'satisfait'), ('habité', 1, 'satisfait'), ('habité', 4, 'satisfait')], [('habité', 4, 'satisfait'), ('habité', 2, 'satisfait'), ('habité', 2, 'satisfait'), ('vide', 6, 'vide'), ('habité', 2, 'satisfait')], [('habité', 3, 'satisfait'), ('habité', 0, 'demenage'), ('vide', 6, 'vide'), ('vide', 6, 'vide'), ('vide', 6, 'vide')], [('vide', 6, 'vide'), ('vide', 6, 'vide'), ('vide', 6, 'vide'), ('vide', 6, 'vide'), ('habité', 3, 'satisfait')], [('vide', 6, 'vide'), ('vide', 6, 'vide'), ('vide', 6, 'vide'), ('vide', 6, 'vide'), ('vide', 6, 'vide')]]\n",
      "agent 0 0 déménage vers place 1 3\n",
      "agent 2 1 déménage vers place 0 0\n",
      "TOUR 4 [[('habité', 0), ('habité', 4), ('habité', 4), ('habité', 1), ('habité', 4)], [('habité', 4), ('habité', 2), ('habité', 2), ('habité', 1), ('habité', 2)], [('habité', 3), ('vide', 6), ('vide', 6), ('vide', 6), ('vide', 6)], [('vide', 6), ('vide', 6), ('vide', 6), ('vide', 6), ('habité', 3)], [('vide', 6), ('vide', 6), ('vide', 6), ('vide', 6), ('vide', 6)]]\n",
      "[['E' 'D' 'D' 'A' 'D']\n",
      " ['E' 'C' 'B' 'D' 'D']\n",
      " ['E' 'C' 'D' 'A' 'A']\n",
      " ['B' 'D' 'C' 'B' 'E']\n",
      " ['C' 'E' 'D' 'E' 'A']]\n",
      "Fin\n"
     ]
    }
   ],
   "source": [
    "print(simulation_avec_evolution_prix(N,M,liste_prix,liste_CL,taux_habité,matrice_agents1, environnement1,nb_tour))"
   ]
  }
 ],
 "metadata": {
  "kernelspec": {
   "display_name": "Python 3",
   "language": "python",
   "name": "python3"
  },
  "language_info": {
   "codemirror_mode": {
    "name": "ipython",
    "version": 3
   },
   "file_extension": ".py",
   "mimetype": "text/x-python",
   "name": "python",
   "nbconvert_exporter": "python",
   "pygments_lexer": "ipython3",
   "version": "3.4.2"
  }
 },
 "nbformat": 4,
 "nbformat_minor": 2
}
